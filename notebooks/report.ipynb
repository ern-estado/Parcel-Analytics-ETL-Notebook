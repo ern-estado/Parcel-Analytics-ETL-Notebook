{
 "cells": [
  {
   "cell_type": "code",
   "execution_count": 2,
   "id": "25d66247",
   "metadata": {},
   "outputs": [
    {
     "name": "stdout",
     "output_type": "stream",
     "text": [
      "+------------------+------------------+-----------------+--------------+\n",
      "| avg_delivery_days|avg_lifecycle_days|  avg_pickup_days|total_packages|\n",
      "+------------------+------------------+-----------------+--------------+\n",
      "|3.5640852541228663| 4.669826791021831|1.097261039686976|         46019|\n",
      "+------------------+------------------+-----------------+--------------+\n",
      "\n"
     ]
    }
   ],
   "source": [
    "# Spark setup\n",
    "from pyspark.sql import SparkSession\n",
    "from pyspark.sql.functions import col, min, datediff, avg, countDistinct, when\n",
    "\n",
    "spark = SparkSession.builder.getOrCreate()\n",
    "\n",
    "# Load fact and dims\n",
    "fact = spark.read.parquet(\"/workspaces/inpost_analytics/warehouse/FactShippingEvent\")\n",
    "dim_shipping = spark.read.parquet(\"/workspaces/inpost_analytics/warehouse/DimShipping\")\n",
    "dim_client = spark.read.parquet(\"/workspaces/inpost_analytics/warehouse/DimClient\")\n",
    "dim_location = spark.read.parquet(\"/workspaces/inpost_analytics/warehouse/DimLocation\")\n",
    "dim_date = spark.read.parquet(\"/workspaces/inpost_analytics/warehouse/DimDate\")\n",
    "\n",
    "# Join fact with dim_shipping\n",
    "enriched = fact.join(dim_shipping, on=\"shipping_id\", how=\"left\") \\\n",
    "    .join(dim_client, on=\"client_id\", how=\"left\") \\\n",
    "    .join(dim_date.withColumnRenamed(\"date\", \"event_date_dim\"), on=\"date_id\", how=\"left\") \\\n",
    "    .join(dim_location.withColumnRenamed(\"location_id\", \"collection_location_id\"), on=\"collection_location_id\", how=\"left\") \\\n",
    "    .withColumnRenamed(\"pays\", \"collection_country\") \\\n",
    "    .withColumnRenamed(\"codeAgence\", \"collection_agency\")\n",
    "\n",
    "# Filter and label events\n",
    "filtered = enriched.filter(col(\"event_code\").isin(\"PEC\", \"TRN\", \"LIV\"))\n",
    "labeled = filtered.withColumn(\n",
    "    \"event_type\",\n",
    "    when((col(\"event_code\") == \"PEC\") & col(\"event_sub_code\").isin(\"REL\", \"APM\"), \"SENT\")\n",
    "    .when((col(\"event_code\") == \"TRN\") & col(\"event_sub_code\").isin(\"REL\", \"APM\"), \"DELIVERED_TO_POINT\")\n",
    "    .when((col(\"event_code\") == \"LIV\"), \"PICKED_UP\")\n",
    ")\n",
    "\n",
    "# Pivot per shipping_id\n",
    "pivoted = labeled.groupBy(\"shipping_id\").agg(\n",
    "    min(when(col(\"event_type\") == \"SENT\", col(\"event_date\"))).alias(\"sent_time\"),\n",
    "    min(when(col(\"event_type\") == \"DELIVERED_TO_POINT\", col(\"event_date\"))).alias(\"delivered_time\"),\n",
    "    min(when(col(\"event_type\") == \"PICKED_UP\", col(\"event_date\"))).alias(\"picked_time\")\n",
    ")\n",
    "\n",
    "# Calculate durations\n",
    "with_durations = pivoted.withColumn(\n",
    "    \"delivery_duration\", datediff(\"delivered_time\", \"sent_time\")\n",
    ").withColumn(\n",
    "    \"lifecycle_duration\", datediff(\"picked_time\", \"sent_time\")\n",
    ").withColumn(\n",
    "    \"pickup_duration\", datediff(\"picked_time\", \"delivered_time\")\n",
    ")\n",
    "\n",
    "# Final metrics\n",
    "metrics = with_durations.agg(\n",
    "    avg(\"delivery_duration\").alias(\"avg_delivery_days\"),\n",
    "    avg(\"lifecycle_duration\").alias(\"avg_lifecycle_days\"),\n",
    "    avg(\"pickup_duration\").alias(\"avg_pickup_days\"),\n",
    "    countDistinct(\"shipping_id\").alias(\"total_packages\")\n",
    ")\n",
    "\n",
    "metrics.show()\n"
   ]
  }
 ],
 "metadata": {
  "kernelspec": {
   "display_name": ".venv",
   "language": "python",
   "name": "python3"
  },
  "language_info": {
   "codemirror_mode": {
    "name": "ipython",
    "version": 3
   },
   "file_extension": ".py",
   "mimetype": "text/x-python",
   "name": "python",
   "nbconvert_exporter": "python",
   "pygments_lexer": "ipython3",
   "version": "3.12.1"
  }
 },
 "nbformat": 4,
 "nbformat_minor": 5
}
